{
  "nbformat": 4,
  "nbformat_minor": 0,
  "metadata": {
    "colab": {
      "name": "LogisticRegression.ipynb",
      "provenance": [],
      "collapsed_sections": [],
      "authorship_tag": "ABX9TyN+IG7zWw8LR6ovBGj60Spt",
      "include_colab_link": true
    },
    "kernelspec": {
      "name": "python3",
      "display_name": "Python 3"
    },
    "language_info": {
      "name": "python"
    }
  },
  "cells": [
    {
      "cell_type": "markdown",
      "metadata": {
        "id": "view-in-github",
        "colab_type": "text"
      },
      "source": [
        "<a href=\"https://colab.research.google.com/github/omidkhalafbeigi/logisticregression/blob/main/LogisticRegression.ipynb\" target=\"_parent\"><img src=\"https://colab.research.google.com/assets/colab-badge.svg\" alt=\"Open In Colab\"/></a>"
      ]
    },
    {
      "cell_type": "code",
      "metadata": {
        "id": "USF6kehKXSg0"
      },
      "source": [
        "import numpy as np\n",
        "from sklearn.datasets import make_blobs\n",
        "from matplotlib import pyplot as plt"
      ],
      "execution_count": 1,
      "outputs": []
    },
    {
      "cell_type": "code",
      "metadata": {
        "id": "B4yPe6W7dR5O"
      },
      "source": [
        "class LogisticRegression:\n",
        "  def sigmoid(self, x):\n",
        "    return (1 / (1 + np.exp(-x)))\n",
        "\n",
        "  def sigmoid_derivative(self, x):\n",
        "    return (self.sigmoid(x) * (1 - self.sigmoid(x)))\n",
        "\n",
        "  def __init__(self, learning_rate=0.001, n_iter=1000):\n",
        "    self.weights = None\n",
        "    self.learning_rate = learning_rate\n",
        "    self.n_iter = n_iter\n",
        "\n",
        "  def fit(self, X, y):\n",
        "    self.weights = np.random.random(size=(X.shape[1], 1))\n",
        "    m = X.shape[0]\n",
        "    for _ in range(self.n_iter):\n",
        "      z = np.dot(X, self.weights)\n",
        "      output = self.sigmoid(z)\n",
        "      for index in range(len(self.weights)):\n",
        "        self.weights[index] -= np.sum((self.learning_rate * (2 / m) * (output - y) * self.sigmoid_derivative(z) * X[:, index]))\n",
        "\n",
        "  def predict(self, X):\n",
        "    return self.sigmoid(np.dot(X, self.weights))\n"
      ],
      "execution_count": 43,
      "outputs": []
    },
    {
      "cell_type": "code",
      "metadata": {
        "id": "YmMwrVxCXUvu"
      },
      "source": [
        "dataset = make_blobs(n_samples=10, centers=2)[0]"
      ],
      "execution_count": 3,
      "outputs": []
    },
    {
      "cell_type": "code",
      "metadata": {
        "id": "MnCSGBiAXzuS"
      },
      "source": [
        "X = dataset[:, 0]\n",
        "y = dataset[:, 1]"
      ],
      "execution_count": 4,
      "outputs": []
    },
    {
      "cell_type": "code",
      "metadata": {
        "colab": {
          "base_uri": "https://localhost:8080/",
          "height": 283
        },
        "id": "JkMMT8cVX7WH",
        "outputId": "5b14406e-35b9-4417-e2f8-8d20b859ff61"
      },
      "source": [
        "plt.scatter(X,  y)"
      ],
      "execution_count": 5,
      "outputs": [
        {
          "output_type": "execute_result",
          "data": {
            "text/plain": [
              "<matplotlib.collections.PathCollection at 0x7f23a531c4d0>"
            ]
          },
          "metadata": {
            "tags": []
          },
          "execution_count": 5
        },
        {
          "output_type": "display_data",
          "data": {
            "image/png": "[encoded data removed]",
            "text/plain": [
              "<Figure size 432x288 with 1 Axes>"
            ]
          },
          "metadata": {
            "tags": [],
            "needs_background": "light"
          }
        }
      ]
    },
    {
      "cell_type": "code",
      "metadata": {
        "id": "PCvyoyzicq-D"
      },
      "source": [
        "target = np.array([0, 1, 1, 0, 0, 1, 0, 0, 1, 1]).reshape(-1, 1)"
      ],
      "execution_count": 6,
      "outputs": []
    },
    {
      "cell_type": "code",
      "metadata": {
        "id": "TgOTovrPgSms"
      },
      "source": [
        "lr = LogisticRegression(learning_rate=0.001, n_iter=1000)"
      ],
      "execution_count": 44,
      "outputs": []
    },
    {
      "cell_type": "code",
      "metadata": {
        "id": "j76X84Wtez8B"
      },
      "source": [
        "lr.fit(dataset, target)"
      ],
      "execution_count": 45,
      "outputs": []
    },
    {
      "cell_type": "code",
      "metadata": {
        "colab": {
          "base_uri": "https://localhost:8080/"
        },
        "id": "WLZ0DErGg3H2",
        "outputId": "baeed20e-461f-49e6-ada4-def19ed48d32"
      },
      "source": [
        "lr.predict([7.8, 3])"
      ],
      "execution_count": 48,
      "outputs": [
        {
          "output_type": "execute_result",
          "data": {
            "text/plain": [
              "array([0.95554605])"
            ]
          },
          "metadata": {
            "tags": []
          },
          "execution_count": 48
        }
      ]
    }
  ]
}