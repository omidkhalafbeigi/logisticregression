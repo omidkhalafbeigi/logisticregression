{
  "nbformat": 4,
  "nbformat_minor": 0,
  "metadata": {
    "colab": {
      "name": "LogisticRegression.ipynb",
      "provenance": [],
      "collapsed_sections": [],
      "authorship_tag": "ABX9TyOrZg43fZf08G/IJScINEjS",
      "include_colab_link": true
    },
    "kernelspec": {
      "name": "python3",
      "display_name": "Python 3"
    },
    "language_info": {
      "name": "python"
    }
  },
  "cells": [
    {
      "cell_type": "markdown",
      "metadata": {
        "id": "view-in-github",
        "colab_type": "text"
      },
      "source": [
        "<a href=\"https://colab.research.google.com/github/omidkhalafbeigi/logisticregression/blob/main/LogisticRegression.ipynb\" target=\"_parent\"><img src=\"https://colab.research.google.com/assets/colab-badge.svg\" alt=\"Open In Colab\"/></a>"
      ]
    },
    {
      "cell_type": "code",
      "metadata": {
        "id": "USF6kehKXSg0"
      },
      "source": [
        "import numpy as np\n",
        "from sklearn.datasets import make_blobs\n",
        "from matplotlib import pyplot as plt"
      ],
      "execution_count": 116,
      "outputs": []
    },
    {
      "cell_type": "code",
      "metadata": {
        "id": "xo5vKxF6Yuys"
      },
      "source": [
        "def sigmoid(x):\n",
        "  return (1 / (1 + np.exp(-x)))"
      ],
      "execution_count": 152,
      "outputs": []
    },
    {
      "cell_type": "code",
      "metadata": {
        "id": "ho4mGn9OY1NV"
      },
      "source": [
        "def sigmoid_derivative(x):\n",
        "  return (sigmoid(x) * (1 - sigmoid(x)))"
      ],
      "execution_count": 153,
      "outputs": []
    },
    {
      "cell_type": "code",
      "metadata": {
        "id": "pLUSLY5rgfhj"
      },
      "source": [
        "weights = np.random.random(size=(2, 1))"
      ],
      "execution_count": 154,
      "outputs": []
    },
    {
      "cell_type": "code",
      "metadata": {
        "id": "BTVxg48LfalL"
      },
      "source": [
        "def fit(X, y, learning_rate=0.001, n_iter=1000):\n",
        "  m = X.shape[0]\n",
        "  for _ in range(n_iter):\n",
        "    z = np.dot(X, weights)\n",
        "    output = sigmoid(z)\n",
        "    for index in range(len(weights)):\n",
        "      weights[index] -= np.sum((learning_rate * (2 / m) * (output - target) * sigmoid_derivative(z) * dataset[:, index]))"
      ],
      "execution_count": 161,
      "outputs": []
    },
    {
      "cell_type": "code",
      "metadata": {
        "id": "gO6bUN66gViV"
      },
      "source": [
        "def predict(X):\n",
        "  return sigmoid(np.dot(X, weights))"
      ],
      "execution_count": 159,
      "outputs": []
    },
    {
      "cell_type": "code",
      "metadata": {
        "id": "YmMwrVxCXUvu"
      },
      "source": [
        "dataset = make_blobs(n_samples=10, centers=2)[0]"
      ],
      "execution_count": 135,
      "outputs": []
    },
    {
      "cell_type": "code",
      "metadata": {
        "id": "MnCSGBiAXzuS"
      },
      "source": [
        "X = dataset[:, 0]\n",
        "y = dataset[:, 1]"
      ],
      "execution_count": 136,
      "outputs": []
    },
    {
      "cell_type": "code",
      "metadata": {
        "colab": {
          "base_uri": "https://localhost:8080/",
          "height": 282
        },
        "id": "JkMMT8cVX7WH",
        "outputId": "e6a60f15-76ed-456c-d99c-dc8dc93d0357"
      },
      "source": [
        "plt.scatter(X,  y)"
      ],
      "execution_count": 137,
      "outputs": [
        {
          "output_type": "execute_result",
          "data": {
            "text/plain": [
              "<matplotlib.collections.PathCollection at 0x7f6608a69890>"
            ]
          },
          "metadata": {
            "tags": []
          },
          "execution_count": 137
        },
        {
          "output_type": "display_data",
          "data": {
            "image/png": "[encoded data removed]",
            "text/plain": [
              "<Figure size 432x288 with 1 Axes>"
            ]
          },
          "metadata": {
            "tags": [],
            "needs_background": "light"
          }
        }
      ]
    },
    {
      "cell_type": "code",
      "metadata": {
        "id": "PCvyoyzicq-D"
      },
      "source": [
        "target = np.array([0, 1, 1, 0, 0, 1, 0, 0, 1, 1]).reshape(-1, 1)"
      ],
      "execution_count": 146,
      "outputs": []
    },
    {
      "cell_type": "code",
      "metadata": {
        "id": "TgOTovrPgSms"
      },
      "source": [
        "fit(dataset, target)"
      ],
      "execution_count": 163,
      "outputs": []
    },
    {
      "cell_type": "code",
      "metadata": {
        "colab": {
          "base_uri": "https://localhost:8080/"
        },
        "id": "WLZ0DErGg3H2",
        "outputId": "d4861b83-dc24-4f02-9a72-54751b436743"
      },
      "source": [
        "predict([7.8, -3.4])"
      ],
      "execution_count": 165,
      "outputs": [
        {
          "output_type": "execute_result",
          "data": {
            "text/plain": [
              "array([0.81943617])"
            ]
          },
          "metadata": {
            "tags": []
          },
          "execution_count": 165
        }
      ]
    }
  ]
}